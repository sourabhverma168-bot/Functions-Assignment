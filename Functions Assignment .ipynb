{
 "cells": [
  {
   "cell_type": "markdown",
   "id": "6f0b7578-cf26-491b-90f6-98298262f1e6",
   "metadata": {},
   "source": [
    "# THEORY QUESTIONS"
   ]
  },
  {
   "cell_type": "markdown",
   "id": "785af925-9150-49cd-86af-ad70abe1c6fd",
   "metadata": {},
   "source": [
    "1. **Difference between a function and a method in Python**?\n",
    "\n",
    " Function: A block of code that performs a task. Defined using def. Can be called independently.\n",
    "\n",
    " Method: A function that belongs to an object (class). Always called using an object/instance.\n",
    "\n",
    "\n",
    " Example:\n",
    "\n",
    "# Function\n",
    "def add(a, b):\n",
    "    return a + b\n",
    "\n",
    "print(add(5, 3))   # 8\n",
    "\n",
    "# Method (inside a class)\n",
    "class Calculator:\n",
    "    def multiply(self, x, y):\n",
    "        return x * y\n",
    "\n",
    "calc = Calculator()\n",
    "print(calc.multiply(4, 2))   # 8\n",
    "\n",
    "---\n",
    "\n",
    "2. **Function arguments and parameters in Python**\n",
    "\n",
    "Parameters: Variables defined inside the function definition.\n",
    "\n",
    "Arguments: Actual values passed when calling the function.\n",
    "\n",
    "\n",
    "Example:\n",
    "\n",
    "def greet(name):   # 'name' is a parameter\n",
    "    print(\"Hello\", name)\n",
    "\n",
    "greet(\"Sourabh\")   # \"Sourabh\" is an argument\n",
    "\n",
    "\n",
    "---\n",
    "\n",
    "3. **Different ways to define and call a function in Python**\n",
    "\n",
    "1. Normal function using def\n",
    "\n",
    "\n",
    "2. Lambda function (anonymous)\n",
    "\n",
    "\n",
    "3. Built-in functions\n",
    "\n",
    "\n",
    "\n",
    "Example:\n",
    "\n",
    "# Normal function\n",
    "def square(x):\n",
    "    return x*x\n",
    "print(square(5))\n",
    "\n",
    "# Lambda function\n",
    "sq = lambda x: x*x\n",
    "print(sq(5))\n",
    "\n",
    "# Built-in function\n",
    "print(len(\"Hello\"))\n",
    "\n",
    "\n",
    "---\n",
    "\n",
    "4. **Purpose of return statement**\n",
    "\n",
    "Used to send a value back from a function to the caller.\n",
    "\n",
    "Without return, function gives None.\n",
    "\n",
    "\n",
    "Example:\n",
    "\n",
    "def add(a, b):\n",
    "    return a + b\n",
    "\n",
    "result = add(10, 20)\n",
    "print(result)   # 30\n",
    "\n",
    "\n",
    "---\n",
    "\n",
    "5. **Iterators vs Iterables**\n",
    "\n",
    "Iterable: An object that can return an iterator (like list, tuple, string).\n",
    "\n",
    "Iterator: An object with __next__() method that fetches items one by one.\n",
    "\n",
    "\n",
    "Example:\n",
    "\n",
    "numbers = [1,2,3]\n",
    "it = iter(numbers)   # Iterator created\n",
    "\n",
    "print(next(it))  # 1\n",
    "print(next(it))  # 2\n",
    "\n",
    "\n",
    "---\n",
    "\n",
    "6. **Generators in Python**\n",
    "\n",
    "Special type of iterator defined using yield.\n",
    "\n",
    "They generate values one by one (lazy evaluation, memory efficient).\n",
    "\n",
    "\n",
    "Example:\n",
    "\n",
    "def gen_numbers():\n",
    "    for i in range(3):\n",
    "        yield i\n",
    "\n",
    "for num in gen_numbers():\n",
    "    print(num)\n",
    "\n",
    "\n",
    "---\n",
    "\n",
    "7. **Advantages of Generators over functions**\n",
    "\n",
    "Memory efficient (do not store all values at once).\n",
    "\n",
    "Useful for large datasets or infinite sequences.\n",
    "\n",
    "Faster execution for iteration.\n",
    "\n",
    "\n",
    "Example:\n",
    "\n",
    "# Generator for infinite numbers\n",
    "def infinite_numbers():\n",
    "    n = 1\n",
    "    while True:\n",
    "        yield n\n",
    "        n += 1\n",
    "\n",
    "\n",
    "---\n",
    "\n",
    "8. **Lambda function in Python**\n",
    "\n",
    "An anonymous function created using lambda.\n",
    "\n",
    "Used for short, simple functions.\n",
    "\n",
    "\n",
    "Example:\n",
    "\n",
    "square = lambda x: x**2\n",
    "print(square(4))  # 16\n",
    "\n",
    "\n",
    "---\n",
    "\n",
    "9. **Purpose of map() function**\n",
    "\n",
    "Applies a function to each element of an iterable.\n",
    "\n",
    "\n",
    "Example:\n",
    "\n",
    "numbers = [1, 2, 3, 4]\n",
    "squares = map(lambda x: x*x, numbers)\n",
    "print(list(squares))   # [1, 4, 9, 16]\n",
    "\n",
    "\n",
    "---\n",
    "\n",
    "10. **Difference between map(), reduce(), and filter()**\n",
    "\n",
    "map(): Applies function to each element.\n",
    "\n",
    "filter(): Selects elements based on condition.\n",
    "\n",
    "reduce(): Reduces sequence to a single value (from functools).\n",
    "\n",
    "\n",
    "Example:\n",
    "\n",
    "from functools import reduce\n",
    "\n",
    "nums = [1, 2, 3, 4, 5]\n",
    "\n",
    "print(list(map(lambda x: x*2, nums)))       # [2,4,6,8,10]\n",
    "print(list(filter(lambda x: x%2==0, nums))) # [2,4]\n",
    "print(reduce(lambda a,b: a+b, nums))        # 15\n",
    "\n",
    "\n",
    "---\n",
    "\n",
    "11. **Reduce function for sum of [47,11,42,13]**\n",
    "\n",
    "Using reduce:\n",
    "\n",
    "from functools import reduce\n",
    "\n",
    "nums = [47, 11, 42, 13]\n",
    "total = reduce(lambda x, y: x + y, nums)\n",
    "print(total)  # 113\n",
    "\n",
    "Step-by-step (internal mechanism):\n",
    "\n",
    "Step 1: (47 + 11) = 58\n",
    "\n",
    "Step 2: (58 + 42) = 100\n",
    "\n",
    "Step 3: (100 + 13) = 113\n",
    "\n",
    "\n",
    "Final Answer = 113\n"
   ]
  },
  {
   "cell_type": "markdown",
   "id": "f26912bf-91b2-4803-82d9-d47d18f7576f",
   "metadata": {},
   "source": [
    "# Practical Questions"
   ]
  },
  {
   "cell_type": "code",
   "execution_count": 19,
   "id": "fa1abad6-8159-4ecd-97ea-3762ccebfaf1",
   "metadata": {},
   "outputs": [],
   "source": [
    "# Write a Python function that takes a list of numbers as input and returns the sum of all even numbers in the list.\n",
    "\n",
    "def sum_even_numbers(nums):\n",
    "    return sum(n for n in nums if n % 2 == 0)\n",
    "   "
   ]
  },
  {
   "cell_type": "code",
   "execution_count": 18,
   "id": "7c0d96bb-056b-49ae-9a98-a6eb8dcfcb95",
   "metadata": {},
   "outputs": [
    {
     "name": "stdout",
     "output_type": "stream",
     "text": [
      "12\n"
     ]
    }
   ],
   "source": [
    " print (sum_even_numbers([1,2,3,4,5,6]))"
   ]
  },
  {
   "cell_type": "code",
   "execution_count": 56,
   "id": "8f7fe9b4-a1ac-42bb-b5de-f9991ce1c9a3",
   "metadata": {},
   "outputs": [],
   "source": [
    "# Create a Python function that accepts a string and returns the reverse of that string.\n",
    "def reverse_string(s):\n",
    "    return s[::-1]\n",
    "    "
   ]
  },
  {
   "cell_type": "code",
   "execution_count": 57,
   "id": "5ab40914-5844-4f76-8a6c-384e5c68c325",
   "metadata": {},
   "outputs": [
    {
     "name": "stdout",
     "output_type": "stream",
     "text": [
      "nohtyp\n"
     ]
    }
   ],
   "source": [
    "print(reverse_string(\"python\"))"
   ]
  },
  {
   "cell_type": "code",
   "execution_count": 55,
   "id": "c443f53c-4a5f-4288-bf1a-c4be4cc20ec6",
   "metadata": {},
   "outputs": [
    {
     "name": "stdout",
     "output_type": "stream",
     "text": [
      "[1, 4, 9, 16, 25, 36]\n"
     ]
    }
   ],
   "source": [
    "# Implement a Python function that takes a list of integers and returns a new list containing the squares of each number.\n",
    "def square_list(nums):\n",
    "     return[n**2 for n in nums]\n",
    "print(square_list([1,2,3,4,5,6]))"
   ]
  },
  {
   "cell_type": "code",
   "execution_count": 68,
   "id": "587cec46-cc6e-425c-a758-274377cee605",
   "metadata": {},
   "outputs": [
    {
     "name": "stdout",
     "output_type": "stream",
     "text": [
      "[2, 3, 5, 7, 11, 13, 17, 19, 23, 29, 31, 37, 41, 43, 47, 53, 59, 61, 67, 71, 73, 79, 83, 89, 97, 101, 103, 107, 109, 113, 127, 131, 137, 139, 149, 151, 157, 163, 167, 173, 179, 181, 191, 193, 197, 199]\n"
     ]
    }
   ],
   "source": [
    "# Write a Python function that checks if a given number is prime or not from 1 to 200.\n",
    "def is_prime(n):\n",
    "    if n < 2:\n",
    "        return False\n",
    "    for i in range(2,int(n**0.5)+1):\n",
    "        if n % i == 0:\n",
    "            return False\n",
    "    return True\n",
    "    \n",
    "primes =[n for n in range(1,201) if \n",
    "is_prime(n)]\n",
    "print(primes)"
   ]
  },
  {
   "cell_type": "code",
   "execution_count": 69,
   "id": "0f78bb35-3a31-40a6-822f-90432c0b222d",
   "metadata": {},
   "outputs": [
    {
     "name": "stdout",
     "output_type": "stream",
     "text": [
      "1 1 2 3 5 8 13 21 34 55 "
     ]
    }
   ],
   "source": [
    "# Create an iterator class in Python that generates the Fibonacci sequence up to a specified number of terms.\n",
    "class Fibonacci:\n",
    "    def __init__(self, limit):\n",
    "        self.a, self.b = 0, 1\n",
    "        self.limit = limit\n",
    "        self.count = 0\n",
    "\n",
    "    def __iter__(self):\n",
    "        return self\n",
    "\n",
    "    def __next__(self):\n",
    "        if self.count >= self.limit:\n",
    "            raise StopIteration\n",
    "        self.count += 1\n",
    "        self.a, self.b = self.b, self.a + self.b\n",
    "        return self.a\n",
    "\n",
    "for num in Fibonacci(10):\n",
    "    print(num, end=\" \") "
   ]
  },
  {
   "cell_type": "code",
   "execution_count": 70,
   "id": "6baabcab-1600-491f-98a9-30a34477c2b0",
   "metadata": {},
   "outputs": [
    {
     "name": "stdout",
     "output_type": "stream",
     "text": [
      "[1, 2, 4, 8, 16, 32]\n"
     ]
    }
   ],
   "source": [
    "# Write a generator function in Python that yields the powers of 2 up to a given exponent.\n",
    "def powers_of_two(n):\n",
    "    for i in range(n+1):\n",
    "        yield 2**i\n",
    "\n",
    "print(list(powers_of_two(5)))  # [1,2,4,8,16,32]\n",
    " "
   ]
  },
  {
   "cell_type": "code",
   "execution_count": 87,
   "id": "bdf07983-eb08-43c2-877a-28d91ae5c549",
   "metadata": {},
   "outputs": [],
   "source": [
    "# Implement a generator function that reads a file line by line and yields each line as a string.\n",
    "\n",
    "def read_file(filename):\n",
    "    with open(filename, \"r\") as f:\n",
    "        for line in f:\n",
    "            yield line.strip()\n",
    "\n",
    " "
   ]
  },
  {
   "cell_type": "code",
   "execution_count": 88,
   "id": "d5f60882-f32e-4d30-adab-44a4b728c1b6",
   "metadata": {},
   "outputs": [
    {
     "name": "stdout",
     "output_type": "stream",
     "text": [
      "[(2, 1), (3, 2), (1, 3)]\n"
     ]
    }
   ],
   "source": [
    "# Use a lambda function in Python to sort a list of tuples based on the second element of each tuple.\n",
    "data = [(1,3),(2,1),(3,2)]\n",
    "sorted_data = sorted(data,key=lambda x:x[1])\n",
    "print(sorted_data)"
   ]
  },
  {
   "cell_type": "code",
   "execution_count": 90,
   "id": "e27d650b-6027-4905-8b54-e5b9f52c6957",
   "metadata": {},
   "outputs": [
    {
     "name": "stdout",
     "output_type": "stream",
     "text": [
      "[0.0, 576.0, 1152.0, 1728.0]\n"
     ]
    }
   ],
   "source": [
    "# Write a Python program that uses `map()` to convert a list of temperatures from Celsius to Fahrenheit.\n",
    "\n",
    "celsius = [0,10,20,30]\n",
    "farhenite = list(map(lambda c: (c* 9/5) *32,celsius))\n",
    "print(farhenite)"
   ]
  },
  {
   "cell_type": "code",
   "execution_count": 93,
   "id": "78d0c746-c01e-4062-bbe9-a2d7c67277bc",
   "metadata": {},
   "outputs": [
    {
     "name": "stdout",
     "output_type": "stream",
     "text": [
      "<function remove_vowels at 0x0000022497485940>\n"
     ]
    }
   ],
   "source": [
    "# Create a Python program that uses `filter()` to remove all the vowels from a given string.\n",
    "def remove_vowels(s):\n",
    "    return \"\",joint(filters(lambda ch:\n",
    "ch.lower() not in \"aelou\",s))\n",
    "print(remove_vowels)"
   ]
  },
  {
   "cell_type": "code",
   "execution_count": 94,
   "id": "29865a85-55bb-4776-ad2d-d56e44220e6a",
   "metadata": {},
   "outputs": [
    {
     "name": "stdout",
     "output_type": "stream",
     "text": [
      "[(34587, 163.8), (98762, 284.0), (77226, 108.85000000000001), (88112, 84.97)]\n"
     ]
    }
   ],
   "source": [
    "#Imagine an accounting routine used in a book shop. It works on a list with sublists, which look like this:\n",
    "    order nmber      book title and author          quantity       price per item\n",
    "    #34587,      \"Learning Python, Mark Lutz\",         4,              40.95],\n",
    "    #98762,      \"Programming Python, Mark Lutz\",      5,              56.80],\n",
    "    #77226,      \"Head First Python, Paul Barry\",      3,              32.95],\n",
    "    #88112,      \"Einführung in Python3, Bernd Klein\", 3,              24.99]\n",
    "]\n",
    "# Write a Python program, which returns a list with 2-tuples. Each tuple consists of the order number and the product of the price per item and the quantity. The product should be increased by 10,- € if the value of the order is smaller than 100,00 €.\n",
    "#Write a Python program using lambda and map\n",
    "orders = [\n",
    "    [34587, \"Learning Python, Mark Lutz\", 4, 40.95],\n",
    "    [98762, \"Programming Python, Mark Lutz\", 5, 56.80],\n",
    "    [77226, \"Head First Python, Paul Barry\", 3, 32.95],\n",
    "    [88112, \"Einführung in Python3, Bernd Klein\", 3, 24.99]\n",
    "]\n",
    "\n",
    "result = list(map(lambda order: (order[0], order[2]*order[3] if order[2]*order[3] >= 100 else order[2]*order[3] + 10), orders))\n",
    "\n",
    "print(result)"
   ]
  },
  {
   "cell_type": "code",
   "execution_count": null,
   "id": "d6b7167e-73fa-4cfe-bad3-10b24c6fce98",
   "metadata": {},
   "outputs": [],
   "source": []
  },
  {
   "cell_type": "code",
   "execution_count": null,
   "id": "9e8af141-c50e-4381-9162-c437c7e5ff28",
   "metadata": {},
   "outputs": [],
   "source": []
  },
  {
   "cell_type": "code",
   "execution_count": null,
   "id": "87409bfa-33be-4445-ac93-86707a45a2e0",
   "metadata": {},
   "outputs": [],
   "source": []
  }
 ],
 "metadata": {
  "kernelspec": {
   "display_name": "Python 3 (ipykernel)",
   "language": "python",
   "name": "python3"
  },
  "language_info": {
   "codemirror_mode": {
    "name": "ipython",
    "version": 3
   },
   "file_extension": ".py",
   "mimetype": "text/x-python",
   "name": "python",
   "nbconvert_exporter": "python",
   "pygments_lexer": "ipython3",
   "version": "3.13.7"
  }
 },
 "nbformat": 4,
 "nbformat_minor": 5
}
